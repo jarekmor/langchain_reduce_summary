{
 "cells": [
  {
   "cell_type": "code",
   "execution_count": 10,
   "metadata": {},
   "outputs": [],
   "source": [
    "import os\n",
    "import openai\n",
    "\n",
    "# openai.api_key = \"sk-xxx\" #insert your API key here\n",
    "openai.api_key = os.environ.get(\"OPENAI_API_KEY\")   # API key is stored in .env file"
   ]
  },
  {
   "cell_type": "code",
   "execution_count": 11,
   "metadata": {},
   "outputs": [],
   "source": [
    "from langchain.document_loaders import PyMuPDFLoader\n",
    "\n",
    "loader = PyMuPDFLoader(\"stories.pdf\") # load the pdf file\n",
    "docs = loader.load()"
   ]
  },
  {
   "cell_type": "code",
   "execution_count": 12,
   "metadata": {},
   "outputs": [
    {
     "data": {
      "text/plain": [
       "'Perspective A:\\nJamie\\'s surprise party was such a hit! We had decided on The Cozy Corner, that lovely local \\nrestaurant with the brick walls and soft fairy lights. I got there around 6:45 PM to help set up and \\nmake sure everything was in order. Jenny and Mark were already there, inflating balloons and \\narranging them around the reserved table. We had ordered a chocolate cake with white frosting and \\n“Happy 25th Jamie!” written on it in blue icing.\\nThe moment Jamie walked in at 7:30 PM, we all shouted, \"Surprise!\" She looked genuinely \\nshocked, her face turning a delightful shade of red. The funniest part of the evening was when \\nJamie tried to blow out the candles and accidentally knocked over her glass of water. Thankfully, no\\nharm was done, and we all had a good laugh.\\nI think she loved the gifts, especially the hand-painted mug from Jenny. It was a heartwarming \\nevening, and I\\'m so glad I could be a part of it.\\nPerspective B: \\nI still can\\'t believe we pulled off the surprise for Jamie at The Cozy Nook. Such a charming place \\nwith its rustic brick walls and twinkling fairy lights. I made it there just in time at 6:50 PM. Sarah, \\nJenny, and Mark were already hard at work with the decorations, blowing up balloons, and setting \\nthem on the tables.\\nWe\\'d picked out a chocolate cake for Jamie, with \"Happy 25th, Jamie!\" written on it in sparkly blue \\nletters. I remember looking at my watch and realizing it was 7:30 PM, the time Jamie was supposed \\nto arrive. The timing was perfect. As soon as she walked in, we all yelled, \"Surprise!\" and her \\nexpression was priceless – a mix of astonishment and sheer joy.\\nOf course, there had to be one hiccup. Jamie, in her excitement, tried to blow out the birthday \\ncandles and ended up knocking over a glass of water. Everyone laughed it off, and thankfully \\nnothing was ruined.\\nAnd she seemed to truly appreciate all her presents, but the hand-painted mug from Jenny stood out.\\nIt was such a memorable night, and I\\'m grateful I could share it with them.\\n'"
      ]
     },
     "execution_count": 12,
     "metadata": {},
     "output_type": "execute_result"
    }
   ],
   "source": [
    "docs[0].page_content"
   ]
  },
  {
   "cell_type": "code",
   "execution_count": 13,
   "metadata": {},
   "outputs": [],
   "source": [
    "from langchain.chains.llm import LLMChain\n",
    "from langchain.prompts import PromptTemplate\n",
    "from langchain.chains.combine_documents.stuff import StuffDocumentsChain\n",
    "\n",
    "from langchain.chat_models import ChatOpenAI\n",
    "from langchain.document_loaders import WebBaseLoader\n",
    "from langchain.chains.summarize import load_summarize_chain"
   ]
  },
  {
   "cell_type": "code",
   "execution_count": 14,
   "metadata": {},
   "outputs": [],
   "source": [
    "from langchain.chains.mapreduce import MapReduceChain\n",
    "from langchain.text_splitter import CharacterTextSplitter\n",
    "from langchain.chains import ReduceDocumentsChain, MapReduceDocumentsChain\n",
    "\n",
    "llm = ChatOpenAI(temperature=0)\n",
    "\n",
    "# Map\n",
    "map_template = \"\"\"You will be provided with unstructured data. The data contains one event two persons' descriptions with their perspectives. \\ \n",
    "Your task is to analyze these perspectives from semantic point of view and list all differences between these two perspectives. Write consise summary for each perspectives.The following text are the perspectives of two persons. \\:\n",
    "{docs}\n",
    "Helpful Answer:\"\"\"\n",
    "map_prompt = PromptTemplate.from_template(map_template)\n",
    "map_chain = LLMChain(llm=llm, prompt=map_prompt)"
   ]
  },
  {
   "cell_type": "code",
   "execution_count": 15,
   "metadata": {},
   "outputs": [],
   "source": [
    "# Reduce\n",
    "reduce_template = \"\"\"The following text are summaries of the perspectives of two persons.:\n",
    "\"{text}\"\n",
    "LIST OF DIFFERENCES BETWEEN PERSPECTIVE_A AND PERSPECTIVE_B:\"\"\"\n",
    "\n",
    "reduce_prompt = PromptTemplate.from_template(reduce_template)\n",
    "reduce_chain = LLMChain(llm=llm, prompt=reduce_prompt)\n",
    "\n",
    "# Takes a list of documents, combines them into a single string, and passes this to an LLMChain\n",
    "combine_documents_chain = StuffDocumentsChain(\n",
    "    llm_chain=reduce_chain, document_variable_name=\"text\"\n",
    ")\n",
    "\n",
    "# Combines and iteravely reduces the mapped documents\n",
    "reduce_documents_chain = ReduceDocumentsChain(\n",
    "    # This is final chain that is called.\n",
    "    combine_documents_chain=combine_documents_chain,\n",
    "    # If documents exceed context for `StuffDocumentsChain`\n",
    "    collapse_documents_chain=combine_documents_chain,\n",
    "    # The maximum number of tokens to group documents into.\n",
    "    token_max=4000,\n",
    ")"
   ]
  },
  {
   "cell_type": "code",
   "execution_count": 16,
   "metadata": {},
   "outputs": [],
   "source": [
    "# Combining documents by mapping a chain over them, then combining results\n",
    "map_reduce_chain = MapReduceDocumentsChain(\n",
    "    # Map chain\n",
    "    llm_chain=map_chain,\n",
    "    # Reduce chain\n",
    "    reduce_documents_chain=reduce_documents_chain,\n",
    "    # The variable name in the llm_chain to put the documents in\n",
    "    document_variable_name=\"docs\",\n",
    "    # Return the results of the map steps in the output\n",
    "    return_intermediate_steps=False,\n",
    ")\n",
    "\n",
    "text_splitter = CharacterTextSplitter.from_tiktoken_encoder(\n",
    "    chunk_size=1000, chunk_overlap=0\n",
    ")\n",
    "split_docs = text_splitter.split_documents(docs)"
   ]
  },
  {
   "cell_type": "code",
   "execution_count": 17,
   "metadata": {},
   "outputs": [
    {
     "name": "stdout",
     "output_type": "stream",
     "text": [
      "1. The name of the restaurant is different in each perspective: The Cozy Corner in Perspective A and The Cozy Nook in Perspective B.\n",
      "2. The person in Perspective A arrived at 6:45 PM to help set up, while the person in Perspective B arrived just in time at 6:50 PM.\n",
      "3. In Perspective A, Jenny and Mark were already at the restaurant inflating balloons and arranging them around the reserved table, while in Perspective B, Sarah, Jenny, and Mark were decorating and setting up balloons on the tables.\n",
      "4. The description of the cake differs slightly in each perspective. In Perspective A, it is described as a chocolate cake with white frosting and \"Happy 25th Jamie!\" written in blue icing, while in Perspective B, it is described as a chocolate cake with \"Happy 25th, Jamie!\" written in sparkly blue letters.\n",
      "5. The reaction of Jamie to the surprise is described differently in each perspective. In Perspective A, it is described as genuine and Jamie turned red, while in Perspective B, it is described as a mix of astonishment and sheer joy.\n",
      "6. The person in Perspective A mentions that Jamie accidentally knocked over her glass of water while trying to blow out the candles, while in Perspective B, it is mentioned that Jamie accidentally knocked over a glass of water while blowing out the candles.\n",
      "7. The person in Perspective A believes Jamie loved the gifts, especially the hand-painted mug from Jenny, while in Perspective B, it is mentioned that Jamie appreciated all her presents, but the hand-painted mug from Jenny stood out.\n"
     ]
    }
   ],
   "source": [
    "print(map_reduce_chain.run(split_docs))"
   ]
  }
 ],
 "metadata": {
  "kernelspec": {
   "display_name": "langchain",
   "language": "python",
   "name": "python3"
  },
  "language_info": {
   "codemirror_mode": {
    "name": "ipython",
    "version": 3
   },
   "file_extension": ".py",
   "mimetype": "text/x-python",
   "name": "python",
   "nbconvert_exporter": "python",
   "pygments_lexer": "ipython3",
   "version": "3.8.10"
  },
  "orig_nbformat": 4
 },
 "nbformat": 4,
 "nbformat_minor": 2
}
